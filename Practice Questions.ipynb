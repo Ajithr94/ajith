{
 "cells": [
  {
   "cell_type": "markdown",
   "source": [
    "##### Q1\n",
    "\n",
    "What will the output be of ((500//7) % 5) ** 3?"
   ],
   "metadata": {}
  },
  {
   "cell_type": "markdown",
   "source": [
    "##### Q2\n",
    "\n",
    "How will you extract ‘love’ from the string S = “I love Python”? (More than one option may be correct.)."
   ],
   "metadata": {}
  },
  {
   "cell_type": "markdown",
   "source": [
    "##### Q3\n",
    "\n",
    "What will the output of 3 * 3 ** 3 be?"
   ],
   "metadata": {}
  },
  {
   "cell_type": "markdown",
   "source": [
    "##### Q4\n",
    "\n",
    "If you have a tuple T = (3, 5, 7, 11), what will the output of T.append(9) be?"
   ],
   "metadata": {}
  },
  {
   "cell_type": "markdown",
   "source": [
    "##### Q5\n",
    "\n",
    "What will the output of the following program be?\n",
    "\n",
    "L1 = ['Vikas', 'Akshay', 'Sanskar', 'Mahima']\n",
    "\n",
    "print(L1[1][-1])"
   ],
   "metadata": {}
  },
  {
   "cell_type": "markdown",
   "source": [
    "##### Q6\n",
    "\n",
    "What will be the output ?\n",
    "\n",
    "l = [32, 34, 12, 27, 33]\n",
    "\n",
    "l.append([14, 19])\n",
    "\n",
    "print(len(l))"
   ],
   "metadata": {}
  },
  {
   "cell_type": "code",
   "execution_count": null,
   "source": [
    "#1 \r\n",
    "print(((500//7) % 5) ** 3)\r\n",
    "#o/p: 1            =(71%5)**3  (=1^3) =1\r\n",
    "\r\n",
    "\r\n",
    "#3\r\n",
    "print(3 * 3 ** 3)\r\n",
    "#o/p 81     (=3*27)"
   ],
   "outputs": [],
   "metadata": {}
  },
  {
   "cell_type": "code",
   "execution_count": null,
   "source": [
    "#2\r\n",
    "fullstring = \"I love Python\"\r\n",
    "substring = \"love\"\r\n",
    "n=len(substring)\r\n",
    "if substring in fullstring:\r\n",
    "    print(\"String Found!\")\r\n",
    "    j=-1\r\n",
    "    for i in fullstring:\r\n",
    "        j+=1\r\n",
    "        if(i=='l'):\r\n",
    "         break\r\n",
    "    print(fullstring[j:j+n])\r\n",
    "else:\r\n",
    "    print(\"String Not found!\")\r\n",
    "#o/p: love\r\n",
    "\r\n"
   ],
   "outputs": [],
   "metadata": {}
  },
  {
   "cell_type": "code",
   "execution_count": null,
   "source": [
    "#4\r\n",
    "T = (3, 5, 7, 11)\r\n",
    "T=list(T)\r\n",
    "T.append(9)\r\n",
    "print(T)\r\n",
    "#o/p [3,5,7,11,9]    only lists can be appended\r\n",
    "\r\n",
    "\r\n",
    "#5\r\n",
    "L1 = ['Vikas', 'Akshay', 'Sanskar', 'Mahima']\r\n",
    "print(L1[1][-1])\r\n",
    "#o/p y        L1[1]='Akshay'   L1[1][-1]='y' \r\n",
    "\r\n",
    "#6\r\n",
    "l = [32, 34, 12, 27, 33]\r\n",
    "l.append([14, 19])\r\n",
    "print(len(l))\r\n",
    "#o/p 6      after appending l=[32,34,12,27,33,[14,19]]   length=6"
   ],
   "outputs": [],
   "metadata": {}
  }
 ],
 "metadata": {
  "kernelspec": {
   "display_name": "Python 3",
   "language": "python",
   "name": "python3"
  },
  "language_info": {
   "codemirror_mode": {
    "name": "ipython",
    "version": 3
   },
   "file_extension": ".py",
   "mimetype": "text/x-python",
   "name": "python",
   "nbconvert_exporter": "python",
   "pygments_lexer": "ipython3",
   "version": "3.7.3"
  }
 },
 "nbformat": 4,
 "nbformat_minor": 2
}