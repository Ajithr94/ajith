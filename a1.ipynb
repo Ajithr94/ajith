n=[] 
i=-1
for x in range(1500,2701):
 if (x%7==0) and (x%5==0):
    n.append(str(x))
    print(n[i+1])
    i=i+1

def sum(a,b):
     c=a+b
     return c 
print(sum(2,6))

def max(a,b):
    if (a>b):
     return a
    else:
        return b
print(max(6,4))

def fact(a):
    s=1
    while (a!=1):
     s=s*a
     a=a-1;
    return s
print(fact(4))

def sinterest(P,R,T):
    s=(P*R*T)/100
    return s
print(sinterest(5000,2,2))

def cinterest(p,r,t):
    a=p*(pow((1+r/100),t))
    c=a-p
    return c
print(cinterest(1000,10,2))

sum = 0  
num =154
temp = num
while temp > 0:  
   digit = temp % 10  
   sum += digit ** 3  
   temp //= 10  
  
if num == sum:  
   print(num,"is an Armstrong number")  
else:  
   print(num,"is not an Armstrong number")  

r=3
A=3.14*r*r
print("Area of circle is ",A)

def PrimeChecker(a):  
    if a > 1:  
        for j in range(2, int(a/2) + 1):  
            if (a % j) == 0:  
                print(a, "is not a prime number")  
                break  
        else:  
            print(a, "is a prime number")  
    else:  
        print(a, "is not a prime number")   
PrimeChecker(2)

for x in range(25,40):
    for j in range(2, int(x/2) + 1):  
            if (x % j) == 0:  
                break  
    else:  
            print(x, ",")  

