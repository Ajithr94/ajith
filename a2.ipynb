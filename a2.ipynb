f=0
s=1
fib=[]
fib.append(0)
fib.append(1)
num = input ("Enter number :")
num= int(num)
for x in range(1,num-1):
    t=f+s
    a=s+t
    f=t
    s=a
    fib.append(f)
    fib.append(s);
print(num,"th element in Fibonacci series is " ,fib[num-1]);


for i in range(len(fib)):
  if(fib[i]==num):
    print("Fibonacci")
    f=1
    break;

if (f==0):
    print("Not Fibonacci");
    
c = 'H'
# print the ASCII value of assigned character in c
print("The ASCII value of '" + c + "' is", ord(c))

num = input ("Enter n:")
num=int(num)
s=0
for x in range(num+1):
    s=s+(x*x)
print("Sum of squares of n natural numbers",s)

num = input ("Enter n:")
num=int(num)
s=0
for x in range(num+1):
    s=s+(x*x*x)
print("Sum of cubes of n natural numbers",s)

def _sum(arr): 
      
    # initialize a variable
    # to store the sum
    # while iterating through
    # the array later
    sum=0
      
    # iterate through the array
    # and add each element to the sum variable
    # one at a time
    for i in arr:
        sum = sum + i
          
    return(sum) 
  
arr = []
  
# input values to list
arr = [12, 3, 4, 15,26,1,5]
ans = sum(arr)
print ('Sum of the array is ',ans)
big=arr[0]
for i in range(len(arr)):
    if (big<arr[i]):
        big=arr[i]
print(big)

  

array = [1,2,3,4,5,6,7,8,9,10]
shift = 4

def printArray(array):
    for i in range(0, len(array)):
        print(array[i], end=' ')

def leftRotation(array, shift):
    for i in range(0, shift):
        temp = array[0]  # saving First element in temp variable
        for j in range(0, len(array) - 1):  # shift remaining array elements one by one
            array[j] = array[j + 1]

        array[len(array) - 1] = temp
    return array

print("Array Before Rotation: ")
printArray(array)

rotatedArray = leftRotation(array, shift)
print("\nArray after left rotation: ")
printArray(rotatedArray)

num = [1,2,3,4,5]
shift = 2
def rightArrayRotation(num_array, shift):
    for i in range(0, shift):
        temp = num_array[len(num_array)-1]
        for j in range(len(num_array)-1, 0, -1):
            num_array[j] = num_array[j-1]
        num_array[0]= temp
    return num_array

def printArray(array):
    for i in range(0, len(array)):
        print(array[i], end=' ')

print("Array Before Rotation: ")
printArray(num)
rotated_array = rightArrayRotation(num, shift)
print("\nArray after Right rotation: ")
printArray(rotated_array)

def splitArr(arr, n, k):
    for i in range(0, k):
        x = arr[0]
        for j in range(0, n-1):
            arr[j] = arr[j + 1]
         
        arr[n-1] = x
         
arr = [12, 10, 5, 6, 52, 36]
n = len(arr)
position = 2
print("Array after splitting:")
splitArr(arr, n, position)
 
for i in range(0, n):
    print(arr[i], end = ' ')